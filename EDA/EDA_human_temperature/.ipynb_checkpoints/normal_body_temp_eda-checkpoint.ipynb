{
 "cells": [
  {
   "cell_type": "markdown",
   "metadata": {},
   "source": [
    "# What is the True Normal Human Body Temperature? \n",
    "\n",
    "EXERCISES FOR THE SPRINGBOARD DATA SCIENCE INTENSIVE \n",
    "\n",
    "#### Background\n",
    "\n",
    "The mean normal body temperature was held to be 37$^{\\circ}$C or 98.6$^{\\circ}$F for more than 120 years since it was first conceptualized and reported by Carl Wunderlich in a famous 1868 book. But, is this value statistically correct?"
   ]
  },
  {
   "cell_type": "markdown",
   "metadata": {},
   "source": [
    "#### Resources\n",
    "\n",
    "+ Information and data sources: \n",
    "- http://www.amstat.org/publications/jse/datasets/normtemp.txt\n",
    "- http://www.amstat.org/publications/jse/jse_data_archive.htm \n",
    "- https://www.statisticshowto.datasciencecentral.com/probability-and-statistics/normal-distributions/central-limit-theorem-definition-examples/\n",
    "- http://www.worldometers.info/world-population/\n",
    "- https://medlineplus.gov/ency/article/001982.htm\n",
    "****"
   ]
  },
  {
   "cell_type": "code",
   "execution_count": 216,
   "metadata": {},
   "outputs": [],
   "source": [
    "# Import necessary libraries\n",
    "\n",
    "import pandas as pd\n",
    "import matplotlib.pyplot as plt\n",
    "import numpy as np\n",
    "import seaborn as sns\n",
    "from scipy import stats\n",
    "import math"
   ]
  },
  {
   "cell_type": "code",
   "execution_count": 123,
   "metadata": {},
   "outputs": [
    {
     "data": {
      "text/html": [
       "<div>\n",
       "<style scoped>\n",
       "    .dataframe tbody tr th:only-of-type {\n",
       "        vertical-align: middle;\n",
       "    }\n",
       "\n",
       "    .dataframe tbody tr th {\n",
       "        vertical-align: top;\n",
       "    }\n",
       "\n",
       "    .dataframe thead th {\n",
       "        text-align: right;\n",
       "    }\n",
       "</style>\n",
       "<table border=\"1\" class=\"dataframe\">\n",
       "  <thead>\n",
       "    <tr style=\"text-align: right;\">\n",
       "      <th></th>\n",
       "      <th>temperature</th>\n",
       "      <th>gender</th>\n",
       "      <th>heart_rate</th>\n",
       "    </tr>\n",
       "  </thead>\n",
       "  <tbody>\n",
       "    <tr>\n",
       "      <th>0</th>\n",
       "      <td>99.3</td>\n",
       "      <td>F</td>\n",
       "      <td>68.0</td>\n",
       "    </tr>\n",
       "    <tr>\n",
       "      <th>1</th>\n",
       "      <td>98.4</td>\n",
       "      <td>F</td>\n",
       "      <td>81.0</td>\n",
       "    </tr>\n",
       "    <tr>\n",
       "      <th>2</th>\n",
       "      <td>97.8</td>\n",
       "      <td>M</td>\n",
       "      <td>73.0</td>\n",
       "    </tr>\n",
       "    <tr>\n",
       "      <th>3</th>\n",
       "      <td>99.2</td>\n",
       "      <td>F</td>\n",
       "      <td>66.0</td>\n",
       "    </tr>\n",
       "    <tr>\n",
       "      <th>4</th>\n",
       "      <td>98.0</td>\n",
       "      <td>F</td>\n",
       "      <td>73.0</td>\n",
       "    </tr>\n",
       "  </tbody>\n",
       "</table>\n",
       "</div>"
      ],
      "text/plain": [
       "   temperature gender  heart_rate\n",
       "0         99.3      F        68.0\n",
       "1         98.4      F        81.0\n",
       "2         97.8      M        73.0\n",
       "3         99.2      F        66.0\n",
       "4         98.0      F        73.0"
      ]
     },
     "execution_count": 123,
     "metadata": {},
     "output_type": "execute_result"
    }
   ],
   "source": [
    "df = pd.read_csv('data/human_body_temperature.csv')\n",
    "temp = df['temperature']\n",
    "df.head()"
   ]
  },
  {
   "cell_type": "markdown",
   "metadata": {
    "collapsed": true
   },
   "source": [
    "## 1. Is the distribution of population sample from body temperatures normal?\n",
    "\n",
    "*Based off of the Central Limit Theorem (CLT), the sampling distribution of the sample means approaches a normal distribution as the sample size gets larger - regardless of what the shape of the population distribution.*"
   ]
  },
  {
   "cell_type": "code",
   "execution_count": 214,
   "metadata": {},
   "outputs": [
    {
     "data": {
      "text/plain": [
       "count    130.000000\n",
       "mean      98.249231\n",
       "std        0.733183\n",
       "min       96.300000\n",
       "25%       97.800000\n",
       "50%       98.300000\n",
       "75%       98.700000\n",
       "max      100.800000\n",
       "Name: temperature, dtype: float64"
      ]
     },
     "execution_count": 214,
     "metadata": {},
     "output_type": "execute_result"
    }
   ],
   "source": [
    "# Describe temp Series\n",
    "temp.describe()"
   ]
  },
  {
   "cell_type": "code",
   "execution_count": 320,
   "metadata": {},
   "outputs": [
    {
     "data": {
      "image/png": "[encoded data removed]",
      "text/plain": [
       "<Figure size 432x288 with 2 Axes>"
      ]
     },
     "metadata": {
      "needs_background": "light"
     },
     "output_type": "display_data"
    },
    {
     "data": {
      "text/plain": [
       "'The sample(n=130) population mean is 98.25(F) with a standard deviation of 0.73.'"
      ]
     },
     "execution_count": 320,
     "metadata": {},
     "output_type": "execute_result"
    }
   ],
   "source": [
    "# Create a figure with two plots:\n",
    "fig, (boxplot, histogram) = plt.subplots(2, sharex=True)\n",
    "# Add boxplot for temperature:\n",
    "sns.boxplot(temp, ax=boxplot)\n",
    "\n",
    "# Add histogram for temperature:\n",
    "plt.hist(temp, bins=20)\n",
    "\n",
    "# Label the figure\n",
    "_ = plt.xlabel('Body Temperature ($^\\circ$F)')\n",
    "_ = plt.ylabel('PDF')\n",
    "_ = plt.title('Distribution Body Temperature ($^\\circ$F)')\n",
    "\n",
    "# Remove x-axis label from boxplot\n",
    "boxplot.set(xlabel='')\n",
    "\n",
    "# Show plot and add print mean and std sample information\n",
    "plt.show()\n",
    "'The sample(n=130) population mean is ' + str(round(np.mean(temp), 2)) + '(F) with a standard deviation of ' + str(round(np.std(temp), 2)) + '.'\n"
   ]
  },
  {
   "cell_type": "markdown",
   "metadata": {},
   "source": [
    "The distribution appears to be normal based off of the boxplot and histogram of the body temperatures sample data. Since binning bias can occur, the Cumulative Distribution Function (CDF) is analyzed next:"
   ]
  },
  {
   "cell_type": "code",
   "execution_count": 191,
   "metadata": {},
   "outputs": [],
   "source": [
    "# Create an Empirical Cumulative Distribution Function (ECDF)\n",
    "def ecdf(data):\n",
    "    \"\"\"Compute ECDF for a one-dimensional array of measurements.\"\"\"\n",
    "    # x-data for the ECDF: x\n",
    "    x = np.sort(data)\n",
    "\n",
    "    # y-data for the ECDF: y\n",
    "    y = np.arange(1, len(data)+1) / len(data)\n",
    "\n",
    "    return x, y"
   ]
  },
  {
   "cell_type": "code",
   "execution_count": 192,
   "metadata": {},
   "outputs": [],
   "source": [
    "# Compute the ECDF of data\n",
    "x_temp, y_temp = ecdf(temp)"
   ]
  },
  {
   "cell_type": "code",
   "execution_count": 193,
   "metadata": {},
   "outputs": [],
   "source": [
    "# Compute the theoretical CDF \n",
    "mean = np.mean(temp)\n",
    "std = np.std(temp)\n",
    "samples = np.random.normal(mean, std, size=10000)\n",
    "x_norm, y_norm = ecdf(samples)"
   ]
  },
  {
   "cell_type": "code",
   "execution_count": 215,
   "metadata": {},
   "outputs": [
    {
     "data": {
      "image/png": "[encoded data removed]",
      "text/plain": [
       "<Figure size 432x288 with 1 Axes>"
      ]
     },
     "metadata": {
      "needs_background": "light"
     },
     "output_type": "display_data"
    }
   ],
   "source": [
    "# Graph ECDF of Data over CDF of Sample Data\n",
    "plt.plot(x_norm, y_norm)\n",
    "plt.plot(x_temp, y_temp, marker='.', linestyle='none')\n",
    "\n",
    "# Label figure\n",
    "_ = plt.xlabel('Body Temperature ($^\\circ$F)')\n",
    "_ = plt.ylabel('Cumulative Distribution Function')\n",
    "_ = plt.legend(labels=['Normal Distribution','Empirical Data'])\n",
    "_ = plt.title('Confirming Normal Distribution of Body Temperature with CDF')\n",
    "\n",
    "# Create margin cushion and show plot\n",
    "plt.margins(0.05)\n",
    "plt.show()"
   ]
  },
  {
   "cell_type": "markdown",
   "metadata": {},
   "source": [
    "**Conclusion:** Since the Theoretical, Normalized CDF overlays the Body Temperature Data (ECDF), it can be assumed that the data is normally distributed."
   ]
  },
  {
   "cell_type": "markdown",
   "metadata": {},
   "source": [
    "## 2. Is the sample size large? Are the observations independent?"
   ]
  },
  {
   "cell_type": "code",
   "execution_count": 211,
   "metadata": {},
   "outputs": [
    {
     "data": {
      "text/plain": [
       "Series([], Name: temperature, dtype: float64)"
      ]
     },
     "execution_count": 211,
     "metadata": {},
     "output_type": "execute_result"
    }
   ],
   "source": [
    "# Check for null values in Body Temperature Series\n",
    "temp[temp.isnull()]"
   ]
  },
  {
   "cell_type": "code",
   "execution_count": 195,
   "metadata": {},
   "outputs": [
    {
     "data": {
      "text/plain": [
       "'The sample size of the temp Series from the dataset is 130 instances.'"
      ]
     },
     "execution_count": 195,
     "metadata": {},
     "output_type": "execute_result"
    }
   ],
   "source": [
    "'The sample size of the temp Series from the dataset is '+ str(len(temp)) + ' instances.'"
   ]
  },
  {
   "cell_type": "markdown",
   "metadata": {},
   "source": [
    "**Size:** The Central Limit Theory (CLT) states a samples size(n) equal to or greater than 30 are to be considered large. Since the length of the body temperature series is 130 (total number of incidences), the sample size is considered large under CLT."
   ]
  },
  {
   "cell_type": "markdown",
   "metadata": {},
   "source": [
    "**Independence:** The 10% Rule of the Independence states that if sample size(n) that is less than or equal to 10% of the total population size, each instance within the dataset can be assumed independent (when sampling without replacement). Since this study attempts to analyze the average body temperature of humans as a population, and as of 12-03-2019 the world population is 7.7 billion, a sample size of 130 is well below 10% of the total population size; therefore, each sample data point can be treated as independent.   "
   ]
  },
  {
   "cell_type": "markdown",
   "metadata": {},
   "source": [
    "## 3. Is the true population mean really 98.6°F?"
   ]
  },
  {
   "cell_type": "markdown",
   "metadata": {},
   "source": [
    "$H$o: The mean population body temperature is 98.6(F). <br> Sample Mean ($μ$) − 98.6 =0\n",
    "\n",
    "$H$a: The mean population body temperature is not 98.6(F). <br> Sample Mean ($μ$) − 98.6 ≠ 0\n",
    "\n",
    "Significance Level: *95%* Confidence. <br> $α$ = 0.05"
   ]
  },
  {
   "cell_type": "markdown",
   "metadata": {},
   "source": [
    "### Method 1: Bootstrap Hypothesis Test"
   ]
  },
  {
   "cell_type": "code",
   "execution_count": 203,
   "metadata": {},
   "outputs": [],
   "source": [
    "# Create a bootstrap replicate function for repeatability\n",
    "def bootstrap_replicate_1d(data, func):\n",
    "    \"\"\"Create a bootstrap replicates.\"\"\"\n",
    "    \n",
    "    # Create bootstrap sample\n",
    "    boot_sample = np.random.choice(data, size=len(data))\n",
    "    \n",
    "    # Apply function to the computed bootstrap sample\n",
    "    return func(boot_sample)"
   ]
  },
  {
   "cell_type": "code",
   "execution_count": 227,
   "metadata": {},
   "outputs": [],
   "source": [
    "# Create a function to apply the bootstrap replicate function 'n' and return an array\n",
    "def draw_bs_reps(data, func, size=1):\n",
    "    \"\"\"Draw bootstrap replicates.\"\"\"\n",
    "\n",
    "    # Initialize array of replicates: bs_replicates\n",
    "    boot_rep = np.empty(size)\n",
    "\n",
    "    # Generate 'n' number of replicates\n",
    "    for i in range(size):\n",
    "        boot_rep[i] = bootstrap_replicate_1d(data, func)\n",
    "\n",
    "    return boot_rep"
   ]
  },
  {
   "cell_type": "code",
   "execution_count": 241,
   "metadata": {},
   "outputs": [
    {
     "name": "stdout",
     "output_type": "stream",
     "text": [
      "bootstrap mean: 98.24919669230769\n",
      "p-value: 0.0\n"
     ]
    }
   ],
   "source": [
    "# Create 10,000 bootstrap replicates of the mean and take the mean of the returned array\n",
    "boot_tenthousand =  draw_bs_reps(temp, np.mean, size=10000)\n",
    "print('bootstrap mean: ' + str(np.mean(boot_tenthousand)))\n",
    "\n",
    "# Create an array of the population mean that is equal to the boostrap array length\n",
    "pop_mean_array = np.full(10000, 98.6)\n",
    "\n",
    "# Compute p-value\n",
    "p_val = np.sum(boot_tenthousand >= pop_mean_array) / len(boot_tenthousand)\n",
    "print('p-value: ' + str(p_val))\n"
   ]
  },
  {
   "cell_type": "markdown",
   "metadata": {},
   "source": [
    "The mean body temperature of an array of 10,000 bootstrap replicates is 98.25°F with a p-value of 0.0."
   ]
  },
  {
   "cell_type": "markdown",
   "metadata": {},
   "source": [
    "**Conclusion from the Bootstrap Hypothesis Test:** The resulting population mean approximation based on 10,000 boostrap replicate samples was 98.25°F, which is less than the population mean of 98.6°F documented by Carl Wunderlich in 1868. Therefore, the null hypothesis that the mean body temperature of the population is 98.6°F cannot be accepted. **$Ho$ is rejected**. "
   ]
  },
  {
   "cell_type": "markdown",
   "metadata": {},
   "source": [
    "### Method 2: Inferential Statistical Analysis"
   ]
  },
  {
   "cell_type": "markdown",
   "metadata": {},
   "source": [
    "#### Is it best to use a one-sample or two-sample test? Why?\n",
    "Since the sample mean needs to be compared to a known population mean, a **One-Sample Test** is more approiate since one-sample tests are used to determine whether the difference between two means is statistically significant or occurred by chance alone."
   ]
  },
  {
   "cell_type": "markdown",
   "metadata": {},
   "source": [
    "#### In this situation, is it appropriate to use the $t$ or $z$ statistic?\n",
    "While the population mean ($μ$) is known, the standard deviation ($σ$) of the population is not. Therefore, using **T ($t$)-statistics is more appropriate** since Z ($z$)-statistic computation is reliant on the population standard deviation ($σ$)."
   ]
  },
  {
   "cell_type": "markdown",
   "metadata": {},
   "source": [
    "How to Calculate $t$-statistics: <br>\n",
    "- $t$ = (x̄ - μ) / (S /√n)\n",
    "- two-tailed critical $t$ value for a 95% CI and 129 degrees of freedom is approximately 1.980."
   ]
  },
  {
   "cell_type": "code",
   "execution_count": 273,
   "metadata": {},
   "outputs": [],
   "source": [
    "# Define the population mean\n",
    "pop_mean = 98.6\n",
    "\n",
    "# Calculate standard error of the mean:\n",
    "std_err = np.std(temp)/np.sqrt(len(temp))"
   ]
  },
  {
   "cell_type": "code",
   "execution_count": 281,
   "metadata": {},
   "outputs": [
    {
     "name": "stdout",
     "output_type": "stream",
     "text": [
      "standard error: 0.2541\n",
      "t-statistic check: -5.4548232923645195\n",
      "p-value: 2.4106320415561276e-07\n",
      "95% confidence interval:  98.122 - 98.377\n"
     ]
    }
   ],
   "source": [
    "print('standard error: ' + str(round(std_err, 4)))\n",
    "\n",
    "# Calculate the t statistic\n",
    "t_stat = stats.ttest_1samp(temp, pop_mean)[0]\n",
    "print('t-statistic check: ' + str(t_stat))\n",
    "\n",
    "# Calculate the p-value\n",
    "p_val = stats.ttest_1samp(temp, pop_mean)[1]\n",
    "print('p-value: ' + str(p_val))\n",
    "\n",
    "# Calculate the standard margin of error for a 95% confidence interval\n",
    "conf_int_low = temp.mean()-(1.98*(temp.std()/math.sqrt(130)))\n",
    "conf_int_high = temp.mean()+(1.98*temp.std()/math.sqrt(130))\n",
    "\n",
    "print('95% confidence interval: ', round(conf_int_low,3),'-', round(conf_int_high,3))"
   ]
  },
  {
   "cell_type": "markdown",
   "metadata": {},
   "source": [
    "**Conclusion from One-Sample $t$-Test:** The calculated *sample* $t$-value, **-5.4548** with a p-value of 0.0249, is beyond the *critical* $t$-value, **-1.980**. In addition, the documented population mean of 98.6°F is outside of the 95% confidence interval of 98.12°F to 98.38°F. Therefore, the null hypothesis that the mean body temperature of the population is 98.6°F cannot be accepted. **$Ho$ is rejected**. "
   ]
  },
  {
   "cell_type": "markdown",
   "metadata": {},
   "source": [
    "#### Try using the other test. How is the result different? Why?\n",
    "As stated above, the $z$-statistic are typically used when the population standard deviation (σ) is known. However, since the sample size is considered large ($n=$ 130), the approximate σ to the sample standard deviation ($S$ / √n) can be used to calculate the $z$-statistic."
   ]
  },
  {
   "cell_type": "markdown",
   "metadata": {},
   "source": [
    "How to Calculate $z$ Statistics: <br>\n",
    "- Z = (X  −  μ0) /($S$/√n)\n",
    "- two-tailed critical $z$ value for a 95% CI is approx. 1.96. If the calculated $z$ is greater than the critical $z$ value, reject $H$o."
   ]
  },
  {
   "cell_type": "code",
   "execution_count": 275,
   "metadata": {},
   "outputs": [
    {
     "name": "stdout",
     "output_type": "stream",
     "text": [
      "standard error: 0.0641\n",
      "z-statistic: -5.475925202078116\n",
      "p-value: 4.3523151658821886e-08\n",
      "95% confidence interval:  98.123 - 98.375\n"
     ]
    }
   ],
   "source": [
    "print('standard error: ' + str(round(std_err, 4)))\n",
    "\n",
    "# Calculate and save z-statistic:\n",
    "z_stat = (np.mean(temp) - 98.6) / std_err\n",
    "print('z-statistic: ' + str(z_stat))\n",
    "\n",
    "# Calculate and save p-value:\n",
    "p_val = stats.norm.cdf(z_stat) * 2\n",
    "print('p-value: ' + str(p_val))\n",
    "\n",
    "# Calculate the 95% confidence interval\n",
    "conf_int_low = temp.mean()-(1.96*(temp.std()/math.sqrt(130)))\n",
    "conf_int_high = temp.mean()+(1.96*temp.std()/math.sqrt(130))\n",
    "\n",
    "print('95% confidence interval: ', round(conf_int_low,3),'-', round(conf_int_high,3))\n"
   ]
  },
  {
   "cell_type": "markdown",
   "metadata": {},
   "source": [
    "**Conclusion from One-Sample  $z$-Test:** The calculated *sample* $z$-value, **-5.4548**, is approximately equal to the *sample* $t$-value, **-5.4548** in addition both having extremely small p-values (4.902-08 vs. 2.411-07, respectively), which are both substantially lower than the 0.05 significance confidence interval. The calculated 95% confidence interval of the $z$-statisic was also the same *up to the second decimal place* with a minimum value of 98.12°F and a maximum value of 98.38°F. Therefore, the null hypothesis that the mean body temperature of the population is 98.6°F would also be rejected. **$Ho$ is rejected**. "
   ]
  },
  {
   "cell_type": "markdown",
   "metadata": {},
   "source": [
    "### 4. Draw a small sample of size 10 from the data and repeat both frequentist tests.\n",
    "- Which one is the correct one to use? \n",
    "- What does this tell you about the difference in application of the $t$ and $z$ statistic?"
   ]
  },
  {
   "cell_type": "code",
   "execution_count": 278,
   "metadata": {},
   "outputs": [],
   "source": [
    "# Create the small sample size population with random values\n",
    "\n",
    "# Seed the random number generator:\n",
    "np.random.seed(15)\n",
    "\n",
    "\n",
    "# Draw a random sample of 10 from the temperature data:\n",
    "sample = np.random.choice(df.temperature, size=10)\n",
    "sample\n",
    "\n",
    "# Calculate standard error of the mean:\n",
    "std_err = np.std(sample)/np.sqrt(len(sample))"
   ]
  },
  {
   "cell_type": "markdown",
   "metadata": {},
   "source": [
    "#### 1. Calculate the $t$ Statistic"
   ]
  },
  {
   "cell_type": "code",
   "execution_count": 283,
   "metadata": {},
   "outputs": [
    {
     "name": "stdout",
     "output_type": "stream",
     "text": [
      "standard error: 0.2541\n",
      "t-statistic check: -2.6882644585784705\n",
      "p-value: 0.024867110651187487\n",
      "95% confidence interval:  97.74 - 98.02\n"
     ]
    }
   ],
   "source": [
    "print('standard error: ' + str(round(std_err, 4)))\n",
    "\n",
    "# Calculate the t statistic\n",
    "t_stat = stats.ttest_1samp(sample, pop_mean)[0]\n",
    "print('t-statistic check: ' + str(t_stat))\n",
    "\n",
    "# Calculate the p-value\n",
    "p_val = stats.ttest_1samp(sample, pop_mean)[1]\n",
    "print('p-value: ' + str(p_val))\n",
    "\n",
    "# Calculate the 95% confidence interval\n",
    "conf_int_low = sample.mean()-(1.98*(sample.std()/math.sqrt(130)))\n",
    "conf_int_high = sample.mean()+(1.98*sample.std()/math.sqrt(130))\n",
    "\n",
    "print('95% confidence interval: ', round(conf_int_low,3),'-', round(conf_int_high,3))"
   ]
  },
  {
   "cell_type": "markdown",
   "metadata": {},
   "source": [
    "#### 2. Calculate the $z$ Statistic"
   ]
  },
  {
   "cell_type": "code",
   "execution_count": 284,
   "metadata": {},
   "outputs": [
    {
     "name": "stdout",
     "output_type": "stream",
     "text": [
      "standard error: 0.2541\n",
      "z-statistic: -2.833679547329114\n",
      "p-value: 0.004601545004804199\n",
      "95% confidence interval:  97.742 - 98.018\n"
     ]
    }
   ],
   "source": [
    "print('standard error: ' + str(round(std_err, 4)))\n",
    "\n",
    "# Calculate and save z-statistic:\n",
    "z_stat = (np.mean(sample) - 98.6) / std_err\n",
    "print('z-statistic: ' + str(z_stat))\n",
    "\n",
    "# Calculate and save p-value:\n",
    "p_val = stats.norm.cdf(z_stat) * 2\n",
    "print('p-value: ' + str(p_val))\n",
    "\n",
    "# Calculate the 95% confidence interval\n",
    "conf_int_low = sample.mean()-(1.96*(sample.std()/math.sqrt(130)))\n",
    "conf_int_high = sample.mean()+(1.96*sample.std()/math.sqrt(130))\n",
    "\n",
    "print('95% confidence interval: ', round(conf_int_low,3),'-', round(conf_int_high,3))"
   ]
  },
  {
   "cell_type": "markdown",
   "metadata": {},
   "source": [
    "**Comparrison of $t$-statistics and $z$-statistics:** When comparing the calculated *small sample* $z$-value, **-2.8337** (p-value: 0.0046), to the calculated *small sample* $t$-value, **-2.6883** (p-value: 0.0249); both p-values still lower than the 0.05 significance confidence interval. While both calculations are sufficient to reject the null hypothesis with 95% confidence, the difference in results reflects the nature of the two distributions: the t-distribution is wider so there is more variability and therefore less sensitive."
   ]
  },
  {
   "cell_type": "markdown",
   "metadata": {},
   "source": [
    "### 5. At what temperature should we consider someone's temperature to be \"abnormal\"?"
   ]
  },
  {
   "cell_type": "markdown",
   "metadata": {},
   "source": [
    "In a normally distributed dataset, values outside of two standard deviations ( σ ) above or below the mean ( μ ) would be considered abnormal. However, since the standard deviations ( σ ) of the population is unknown, it would theoretically be accurate to assume that body temperatures outside of the 99.9% confidence interval would be considered 'abnormal'."
   ]
  },
  {
   "cell_type": "markdown",
   "metadata": {},
   "source": [
    "**Method: Create 99.9% confidence interval using a Random Number Generator and Bootstrap to determine the low and high levels where abnormal body temperature begins.**"
   ]
  },
  {
   "cell_type": "code",
   "execution_count": 292,
   "metadata": {},
   "outputs": [
    {
     "name": "stdout",
     "output_type": "stream",
     "text": [
      "99.9% Confidence Interval: [98.04384577 98.45923154]\n"
     ]
    }
   ],
   "source": [
    "# Seed the random number generator:\n",
    "np.random.seed(15)\n",
    "\n",
    "# Draw bootstrap replicates of temperatures:\n",
    "replicates = draw_bs_reps(temp, np.mean, 10000)\n",
    "\n",
    "# Compute the 99.9% confidence interval:\n",
    "CI = np.percentile(replicates, [0.05, 99.95])\n",
    "print('99.9% Confidence Interval:', CI)"
   ]
  },
  {
   "cell_type": "code",
   "execution_count": 319,
   "metadata": {},
   "outputs": [
    {
     "name": "stderr",
     "output_type": "stream",
     "text": [
      "/anaconda3/lib/python3.7/site-packages/scipy/stats/stats.py:1713: FutureWarning: Using a non-tuple sequence for multidimensional indexing is deprecated; use `arr[tuple(seq)]` instead of `arr[seq]`. In the future this will be interpreted as an array index, `arr[np.array(seq)]`, which will result either in an error or a different result.\n",
      "  return np.add.reduce(sorted[indexer] * weights, axis=axis) / sumval\n"
     ]
    },
    {
     "data": {
      "image/png": "[encoded data removed]",
      "text/plain": [
       "<Figure size 432x288 with 2 Axes>"
      ]
     },
     "metadata": {
      "needs_background": "light"
     },
     "output_type": "display_data"
    }
   ],
   "source": [
    "# Create a figure with two plots:\n",
    "fig, (boxplot, histogram) = plt.subplots(2, sharex=True)\n",
    "\n",
    "# Add boxplot for temperature:\n",
    "sns.boxplot(replicates, ax=boxplot)\n",
    "\n",
    "# Add histogram for temperature:\n",
    "sns.distplot(replicates, ax=histogram)\n",
    "\n",
    "# Label axes and add title:\n",
    "plt.xlabel('Temperature ($^\\circ$F)')\n",
    "plt.ylabel('PDF')\n",
    "plt.title('Distribution of Temperature Means')\n",
    "\n",
    "# Add text and lines marking the 99.9% confidence interval:\n",
    "plt.text(x=CI[0]-0.075, y=1, s='0.05% CI')\n",
    "plt.vlines(ymin=0, ymax=1, x=CI[0])\n",
    "plt.text(x=CI[1], y=1, s='99.95% CI')\n",
    "plt.vlines(ymin=0, ymax=1, x=CI[1])\n",
    "\n",
    "# Remove x-axis label for the boxplot:\n",
    "boxplot.set(xlabel='')\n",
    "\n",
    "# Display the plots:\n",
    "plt.show()"
   ]
  },
  {
   "cell_type": "markdown",
   "metadata": {},
   "source": [
    "**Conclusion:** Based off of the calculations above, abnormal body temperatures are temperatures below 98.04°F or above 98.46°F. However, the term 'abnormal' should not be associated with 'dangerous' or medically significant body temperatures. The current documented safe range of human body temperature is 97°F to 99°F, based on Medline.com."
   ]
  },
  {
   "cell_type": "markdown",
   "metadata": {},
   "source": [
    "### 6. Is There a Significant Difference Between Males and Females in Normal Temperature?\n",
    "- What test is used and why?"
   ]
  },
  {
   "cell_type": "markdown",
   "metadata": {},
   "source": [
    "Since we need to compare the difference in body temperature between males and females, either a **two-sample $t$-test**, which compares two independent sample means, or a **permutation test**, which simulates the null hypothesis, can be used."
   ]
  },
  {
   "cell_type": "code",
   "execution_count": 340,
   "metadata": {},
   "outputs": [
    {
     "data": {
      "image/png": "[encoded data removed]",
      "text/plain": [
       "<Figure size 432x288 with 1 Axes>"
      ]
     },
     "metadata": {
      "needs_background": "light"
     },
     "output_type": "display_data"
    }
   ],
   "source": [
    "# Graphically visualize data\n",
    "\n",
    "# Compute percentiles\n",
    "percentile = np.array([25,50,75])\n",
    "w_percentiles = np.percentile(df.temperature[df.gender == 'F'], percentile)\n",
    "m_percentiles = np.percentile(df.temperature[df.gender == 'M'], percentile)\n",
    "\n",
    "# Compute Women and Men Temperature ECDFs\n",
    "wx_temp, wy_temp = ecdf(df.temperature[df.gender == 'F'])\n",
    "mx_temp, my_temp = ecdf(df.temperature[df.gender == 'M'])\n",
    "\n",
    "# Plot both ECDFs on same plot\n",
    "fig = plt.plot(wx_temp, wy_temp, marker='.', linestyle='none')\n",
    "fig = plt.plot(mx_temp, my_temp, marker='.', linestyle='none')\n",
    "\n",
    "# Overlay percentiles on each plot\n",
    "fig = plt.plot(w_percentiles, percentile/100, marker='o', linestyle='none', color='black')\n",
    "fig = plt.plot(m_percentiles, percentile/100, marker='o', linestyle='none', color='black')\n",
    "\n",
    "# Label figure\n",
    "fig = plt.xlabel('Temperature ($^\\circ$F)')\n",
    "fig = plt.ylabel('ECDF')\n",
    "fig = plt.legend(('Female Body Temperature', 'Male Body Temperature', '25$^{th}$, 50$^{th}$, 75$^{th}$ Percentiles'))\n",
    "fig = plt.title('Distribution of Female and Male Body Temperatures')\n",
    "\n",
    "# Save plots\n",
    "plt.show()"
   ]
  },
  {
   "cell_type": "code",
   "execution_count": 304,
   "metadata": {},
   "outputs": [
    {
     "name": "stdout",
     "output_type": "stream",
     "text": [
      "sample size: 65\n",
      "women mean temperature: 98.39384615384613\n",
      "sample size: 65\n",
      "men mean temperature: 98.1046153846154\n"
     ]
    }
   ],
   "source": [
    "# Calculate sample size and mean of women and men temperatures\n",
    "\n",
    "# women \n",
    "women_temp = df.temperature[df.gender == 'F']\n",
    "w_size = len(women_temp)\n",
    "w_mean = np.mean(women_temp)\n",
    "print('sample size:', w_size)\n",
    "print('women mean temperature:', w_mean)\n",
    "\n",
    "# men\n",
    "men_temp = df.temperature[df.gender == 'M']\n",
    "m_size = len(men_temp)\n",
    "m_mean = np.mean(men_temp)\n",
    "print('sample size:', m_size)\n",
    "print('men mean temperature:', m_mean)"
   ]
  },
  {
   "cell_type": "markdown",
   "metadata": {},
   "source": [
    "#### Determine if there is a statistically significant difference between $μ$females and $μ$males:\n",
    "\n",
    "$H$o: The mean population body temperature is 98.6(F). <br> $μ$females - $μ$males =0\n",
    "\n",
    "$H$a: The mean population body temperature is not 98.6(F). <br> $μ$females - $μ$males ≠ 0\n",
    "\n",
    "Significance Level: *95%* Confidence. <br> $α$ = 0.05"
   ]
  },
  {
   "cell_type": "markdown",
   "metadata": {},
   "source": [
    "#### Method 1: Permutations"
   ]
  },
  {
   "cell_type": "code",
   "execution_count": 312,
   "metadata": {},
   "outputs": [],
   "source": [
    "# Create finctions for: permutations, replicate permutations, and difference of means\n",
    "\n",
    "def perm_sample(data1, data2):\n",
    "    \"\"\"Return a permutation sample from two data sets.\"\"\"\n",
    "\n",
    "    # Concatenate the data sets:\n",
    "    data = np.concatenate((data1, data2))\n",
    "\n",
    "    # Permute the concatenated array:\n",
    "    perm_data = np.random.permutation(data)\n",
    "\n",
    "    # Split the permuted array into two samples:\n",
    "    perm_sample_1 = perm_data[:len(data1)]\n",
    "    perm_sample_2 = perm_data[len(data1):]\n",
    "\n",
    "    return perm_sample_1, perm_sample_2\n",
    "\n",
    "\n",
    "def draw_perm_reps(data_1, data_2, func, size=1):\n",
    "    \"\"\"Draw multiple permutation replicates.\"\"\"\n",
    "\n",
    "    # Initialize array of permutation replicates:\n",
    "    perm_reps = np.empty(size)\n",
    "\n",
    "    for i in range(size):\n",
    "        # Generate permutation samples:\n",
    "        perm_sample_1, perm_sample_2 = perm_sample(data_1, data_2)\n",
    "\n",
    "        # Compute the test statistic:\n",
    "        perm_reps[i] = func(perm_sample_1, perm_sample_2)\n",
    "\n",
    "    return perm_reps\n",
    "\n",
    "\n",
    "def diff_of_means(data_1, data_2):\n",
    "    \"\"\"Return the difference in means of two arrays.\"\"\"\n",
    "\n",
    "    # The difference of means of data_1, data_2:\n",
    "    return np.mean(data_1) - np.mean(data_2)"
   ]
  },
  {
   "cell_type": "code",
   "execution_count": 315,
   "metadata": {},
   "outputs": [
    {
     "data": {
      "text/plain": [
       "0.289230769230727"
      ]
     },
     "execution_count": 315,
     "metadata": {},
     "output_type": "execute_result"
    }
   ],
   "source": [
    "# Compute difference of means:\n",
    "emp_diff = diff_of_means(w_mean, m_mean)\n",
    "emp_diff"
   ]
  },
  {
   "cell_type": "code",
   "execution_count": 316,
   "metadata": {},
   "outputs": [
    {
     "data": {
      "text/plain": [
       "array([0.05538462, 0.02461538, 0.06769231, ..., 0.16      , 0.10461538,\n",
       "       0.05846154])"
      ]
     },
     "execution_count": 316,
     "metadata": {},
     "output_type": "execute_result"
    }
   ],
   "source": [
    "# Create permutation replicates\n",
    "\n",
    "# Seed the random number generator:\n",
    "np.random.seed(15)\n",
    "\n",
    "# 10000 permutation replicates\n",
    "perm_reps = draw_perm_reps(women_temp, men_temp, diff_of_means, size=10000)\n",
    "perm_reps"
   ]
  },
  {
   "cell_type": "code",
   "execution_count": 318,
   "metadata": {},
   "outputs": [
    {
     "name": "stdout",
     "output_type": "stream",
     "text": [
      "Difference of Means 0.289230769230727\n",
      "p-value = 0.013\n"
     ]
    }
   ],
   "source": [
    "# Calculate the Difference of Means p-value\n",
    "p_val = np.sum(perm_reps >= emp_diff)/ len(perm_reps)\n",
    "\n",
    "# Print the results:\n",
    "print('Difference of Means', emp_diff)\n",
    "print('p-value =', p_val)"
   ]
  },
  {
   "cell_type": "markdown",
   "metadata": {},
   "source": [
    "**Conclusion from Permutations Analysis:** Since the difference of means p-value of 0.013 is less than the significance level of 0.05, the null hypothesis cannot be accepted. **$Ho$ is rejected**"
   ]
  },
  {
   "cell_type": "markdown",
   "metadata": {},
   "source": [
    "#### Method 2: Two-Sample  $t$-Test"
   ]
  },
  {
   "cell_type": "code",
   "execution_count": 325,
   "metadata": {},
   "outputs": [
    {
     "name": "stdout",
     "output_type": "stream",
     "text": [
      "t-statistic check: 2.2854345381656103\n",
      "p-value: 0.02393188312239561\n"
     ]
    }
   ],
   "source": [
    "# Calculate the two-sample t statistic\n",
    "t_stat = stats.ttest_ind(women_temp, men_temp)[0]\n",
    "print('t-statistic check: ' + str(t_stat))\n",
    "\n",
    "# Calculate the two-sample t statistic p-value\n",
    "p_val = stats.ttest_ind(women_temp, men_temp)[1]\n",
    "print('p-value: ' + str(p_val))"
   ]
  },
  {
   "cell_type": "markdown",
   "metadata": {},
   "source": [
    "**Conclusion from Two-Sample  $t$-Test:** Since the difference of means p-value of 0.024 is less than the significance level of 0.05, the null hypothesis cannot be accepted. **$Ho$ is rejected**"
   ]
  }
 ],
 "metadata": {
  "kernelspec": {
   "display_name": "Python 3",
   "language": "python",
   "name": "python3"
  },
  "language_info": {
   "codemirror_mode": {
    "name": "ipython",
    "version": 3
   },
   "file_extension": ".py",
   "mimetype": "text/x-python",
   "name": "python",
   "nbconvert_exporter": "python",
   "pygments_lexer": "ipython3",
   "version": "3.7.0"
  }
 },
 "nbformat": 4,
 "nbformat_minor": 1
}
