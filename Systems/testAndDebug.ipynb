{
 "cells": [
  {
   "cell_type": "markdown",
   "metadata": {},
   "source": [
    "## Testing and Debugging for Data Scientists"
   ]
  },
  {
   "cell_type": "markdown",
   "metadata": {},
   "source": [
    "### Section 1. Getting Started with Testing"
   ]
  },
  {
   "cell_type": "markdown",
   "metadata": {},
   "source": [
    "#### Simply Unit Test"
   ]
  },
  {
   "cell_type": "code",
   "execution_count": null,
   "metadata": {},
   "outputs": [],
   "source": [
    "import unittest\n",
    "from portfolio1 import Portfolio"
   ]
  },
  {
   "cell_type": "code",
   "execution_count": null,
   "metadata": {},
   "outputs": [],
   "source": [
    "class PortfolioTest(unittest.TestCase):\n",
    "    def test_buy_one_stock(self):\n",
    "        p = Portfolio()\n",
    "        p.buy('IBM', 100, 176.48)\n",
    "        self.assertEqual(p.cost(), 17648.0)"
   ]
  },
  {
   "cell_type": "code",
   "execution_count": null,
   "metadata": {},
   "outputs": [],
   "source": [
    "$ python -m unittest test_port1"
   ]
  },
  {
   "cell_type": "markdown",
   "metadata": {},
   "source": [
    "### Section 2. Getting Started with Debugging\n",
    "*Python is not the easiest language to debug*"
   ]
  },
  {
   "cell_type": "markdown",
   "metadata": {},
   "source": [
    "#### Process\n",
    "A. SyntaxError: Something very obvious is wrong\n",
    "    1. Read the error message\n",
    "    2. Read the source code denoted in the error message\n",
    "    3. Code line notated is usually where error occurred\n",
    "B. Runtime Exception: Source of error is not obvious\n",
    "    1. Go to code line notated in source code\n",
    "    2. If there is no obvious error in that line, check lines above\n",
    "C. No error from Python BUT program does not function as it should\n",
    "    1. *Where Debugging Starts*\n",
    "        - Improper Indentations\n",
    "        - Unnused/dead code\n",
    "    2. AssertionError"
   ]
  },
  {
   "cell_type": "code",
   "execution_count": null,
   "metadata": {},
   "outputs": [],
   "source": [
    "# interactive python debugging \n",
    "$ python parse_uniprot.py"
   ]
  },
  {
   "cell_type": "code",
   "execution_count": null,
   "metadata": {},
   "outputs": [],
   "source": []
  },
  {
   "cell_type": "code",
   "execution_count": null,
   "metadata": {},
   "outputs": [],
   "source": []
  }
 ],
 "metadata": {
  "kernelspec": {
   "display_name": "Python 3",
   "language": "python",
   "name": "python3"
  },
  "language_info": {
   "codemirror_mode": {
    "name": "ipython",
    "version": 3
   },
   "file_extension": ".py",
   "mimetype": "text/x-python",
   "name": "python",
   "nbconvert_exporter": "python",
   "pygments_lexer": "ipython3",
   "version": "3.7.2"
  }
 },
 "nbformat": 4,
 "nbformat_minor": 2
}
